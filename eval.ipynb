{
 "cells": [
  {
   "cell_type": "code",
   "execution_count": null,
   "metadata": {},
   "outputs": [],
   "source": [
    "import warnings; warnings.filterwarnings(\"ignore\", message=\"Initializing zero-element tensors is a no-op\")\n",
    "import pandas as pd\n",
    "import torch\n",
    "import os \n",
    "from utils.eval_utils import get_pairs, eval_epochs, LFWSingleDataset\n",
    "\n",
    "from utils.utils import transform\n",
    "from models.NN2 import FaceNet\n",
    "\n",
    "device = torch.device('cuda' if torch.cuda.is_available() else 'cpu')\n",
    "\n",
    "IMAGES_PATH = './data/lfw-faces/'\n",
    "DF_PATH = './data/'\n",
    "EPOCHS_PATH = './checkpoints/'"
   ]
  },
  {
   "cell_type": "code",
   "execution_count": null,
   "metadata": {},
   "outputs": [],
   "source": [
    "test_df = pd.read_csv(os.path.join(DF_PATH, 'lfw_faces_test.csv'))\n",
    "print(f'Test data shape: {test_df.shape}')\n",
    "\n",
    "pairs = get_pairs(test_df, 1024)\n",
    "print(f'Pairs shape: {pairs.shape}')"
   ]
  },
  {
   "cell_type": "markdown",
   "metadata": {},
   "source": [
    "# **VAL, FAR, ROC, Dists**"
   ]
  },
  {
   "cell_type": "code",
   "execution_count": null,
   "metadata": {},
   "outputs": [],
   "source": [
    "eval_epochs(epochs_path=EPOCHS_PATH, \n",
    "            pairs=pairs,\n",
    "            model_class=FaceNet, \n",
    "            batch_size=32,\n",
    "            transform=transform, \n",
    "            device=device,\n",
    "            target_far=1e-3)"
   ]
  },
  {
   "cell_type": "markdown",
   "metadata": {},
   "source": [
    "# **Visualizar os embeddings**"
   ]
  },
  {
   "cell_type": "code",
   "execution_count": null,
   "metadata": {},
   "outputs": [],
   "source": [
    "import os\n",
    "from sklearn.manifold import TSNE\n",
    "from sklearn.decomposition import PCA\n",
    "import numpy as np\n",
    "import matplotlib.pyplot as plt"
   ]
  },
  {
   "cell_type": "code",
   "execution_count": null,
   "metadata": {},
   "outputs": [],
   "source": [
    "def view_embs(epochs_path, model_class, test_df, transform, device):\n",
    "    models_name = os.listdir(epochs_path)\n",
    "    models_name = [model for model in models_name if 'bons' not in model]\n",
    "    models_name_sorted = sorted(models_name, key=lambda x: int(x.replace('.pt', '').split('_')[1]))\n",
    "    model = models_name_sorted[-1]\n",
    "    \n",
    "    modelo = model_class(emb_size=64).to(device)\n",
    "    modelo.eval()\n",
    "\n",
    "    test_dataset = LFWSingleDataset(test_df, transform=transform)\n",
    "    test_dataloader = torch.utils.data.DataLoader(test_dataset, batch_size=32, shuffle=False, pin_memory=True, num_workers=0)\n",
    "\n",
    "    model_path = os.path.join(epochs_path, model)\n",
    "    load = torch.load(model_path)\n",
    "    load = {k.replace('_orig_mod.', ''): v for k, v in load.items()}\n",
    "    modelo.load_state_dict(load)\n",
    "    \n",
    "    embeddings = []\n",
    "    with torch.no_grad():\n",
    "        for (imgs, labels) in test_dataloader:\n",
    "            images = imgs.to(device)\n",
    "            embeddings.append(modelo(images).cpu().numpy())\n",
    "    embeddings = np.concatenate(embeddings)\n",
    "    \n",
    "    # Reduzir dimensionalidade com t-SNE\n",
    "    tsne = TSNE(n_components=2, perplexity=30, max_iter=300)\n",
    "    embeddings_tsne = tsne.fit_transform(embeddings)\n",
    "    \n",
    "    # Reduzir dimensionalidade com PCA\n",
    "    pca = PCA(n_components=2)\n",
    "    embeddings_pca = pca.fit_transform(embeddings)\n",
    "    \n",
    "    plt.figure(figsize=(24, 8))\n",
    "    \n",
    "    # Plotar t-SNE\n",
    "    plt.subplot(1, 2, 1)\n",
    "    scatter = plt.scatter(embeddings_tsne[:, 0], embeddings_tsne[:, 1], c=test_df['id'], cmap='tab10', s=5)\n",
    "    plt.colorbar(scatter)\n",
    "    plt.title(f't-SNE {model}')\n",
    "    \n",
    "    # Plotar PCA\n",
    "    plt.subplot(1, 2, 2)\n",
    "    scatter = plt.scatter(embeddings_pca[:, 0], embeddings_pca[:, 1], c=test_df['id'], cmap='tab10', s=5)\n",
    "    plt.colorbar(scatter)\n",
    "    plt.title(f'PCA {model}')\n",
    "    \n",
    "    plt.show()\n",
    "\n",
    "view_embs(EPOCHS_PATH, FaceNet, test_df, transform, device)"
   ]
  }
 ],
 "metadata": {
  "kernelspec": {
   "display_name": "Python 3",
   "language": "python",
   "name": "python3"
  },
  "language_info": {
   "codemirror_mode": {
    "name": "ipython",
    "version": 3
   },
   "file_extension": ".py",
   "mimetype": "text/x-python",
   "name": "python",
   "nbconvert_exporter": "python",
   "pygments_lexer": "ipython3",
   "version": "3.10.12"
  }
 },
 "nbformat": 4,
 "nbformat_minor": 2
}
